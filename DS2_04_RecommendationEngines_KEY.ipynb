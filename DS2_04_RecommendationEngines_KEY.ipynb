{
 "cells": [
  {
   "cell_type": "markdown",
   "id": "4f04ed7e",
   "metadata": {},
   "source": [
    "## **Exercise 1: Collaborative Filtering**\n",
    "In this exercise, you will be building a recommendation engine that recommends a movie based on ratings similarity between users. \n",
    "\n",
    "**A)** Read the two datasets \"ratings.csv\" and \"movies.csv\".\n",
    "\n",
    "**B)** Prepare the ranking matrix to be used in collaborative filtering.\n",
    "\n",
    "**C)** Create a function that finds the similar movies to a given movie id and try it. \n",
    "\n",
    "**D)** **EXTRA** Modify the fuction to take the user id as well and ensure that the recomended movies are not already watched by the user. \n"
   ]
  },
  {
   "cell_type": "code",
   "execution_count": 1,
   "id": "08899038",
   "metadata": {},
   "outputs": [],
   "source": [
    "import pandas as pd \n",
    "import numpy as np\n",
    "from sklearn.neighbors import NearestNeighbors"
   ]
  },
  {
   "cell_type": "markdown",
   "id": "c57ab2ee",
   "metadata": {},
   "source": [
    "### **A)**"
   ]
  },
  {
   "cell_type": "code",
   "execution_count": 2,
   "id": "eb240a6f",
   "metadata": {},
   "outputs": [],
   "source": [
    "# Read ratings.csv and drop \"timestamp\" column\n",
    "ratings = pd.read_csv(\"ratings.csv\") \\\n",
    "    .drop(\"timestamp\", axis=1).set_index(\"movieId\")\n",
    "  \n",
    "# Read movies.csv and drop \"genres\" column\n",
    "movies = pd.read_csv(\"movies.csv\") \\\n",
    "    .drop(\"genres\", axis=1).set_index(\"movieId\")"
   ]
  },
  {
   "cell_type": "markdown",
   "id": "211ffda1",
   "metadata": {},
   "source": [
    "### **B)**"
   ]
  },
  {
   "cell_type": "code",
   "execution_count": 16,
   "id": "4fa56da5",
   "metadata": {},
   "outputs": [],
   "source": [
    "# Join the two dataframes on movieId\n",
    "df = ratings.join(movies, how=\"inner\").reset_index()\n",
    "\n",
    "# Using pd.pivot_table, transform the table into a matrix so that each row represents a movie and each column represents a user\n",
    "# (index should be \"movieId\")\n",
    "df2 = pd.pivot_table(df, index=[\"movieId\", \"title\"], columns=\"userId\", values=\"rating\").fillna(0)\n",
    "df2 = df2.reset_index().set_index(\"movieId\")"
   ]
  },
  {
   "cell_type": "markdown",
   "id": "f7c2c262",
   "metadata": {},
   "source": [
    "### **C)**"
   ]
  },
  {
   "cell_type": "code",
   "execution_count": 62,
   "id": "22c220d5",
   "metadata": {},
   "outputs": [],
   "source": [
    "# Create a function that finds the similar movies to a given movie id.\n",
    "def similar_movies(df, k, movie_id):\n",
    "    # df is the movie-user matrix \n",
    "    # k is the number of similar movies to find\n",
    "    # movie_id is the movie id to find similar movies to\n",
    "    \n",
    "    # Build a NearestNesighbors model\n",
    "    kNN = NearestNeighbors(n_neighbors=k+1, algorithm=\"brute\", metric='cosine')\n",
    "    \n",
    "    # Fit the model to using df\n",
    "    kNN.fit(df.drop(\"title\", axis=1))\n",
    "    \n",
    "    # Find the closest neighbors using .kneighbors and passing the rankings associated with the movie_id\n",
    "    # This step will return a list of movie ids\n",
    "    recs = kNN.kneighbors([list(df.drop(\"title\", axis=1).loc[movie_id])], return_distance=False)[0]\n",
    "#     print(recs)\n",
    "    # Find the titles of the movie ids\n",
    "    recs_names = [df.iloc[i][\"title\"] for i in recs]\n",
    "    recs_names = [m for m in recs_names if m != df.loc[movie_id][\"title\"]]\n",
    "    \n",
    "    # return a list with the recommended movie titles\n",
    "    return recs_names"
   ]
  },
  {
   "cell_type": "code",
   "execution_count": 63,
   "id": "c0aaa949",
   "metadata": {},
   "outputs": [
    {
     "name": "stdout",
     "output_type": "stream",
     "text": [
      "['Shawshank Redemption, The (1994)', 'Forrest Gump (1994)', 'Pulp Fiction (1994)', 'Silence of the Lambs, The (1991)', 'Usual Suspects, The (1995)', \"Schindler's List (1993)\", 'Fight Club (1999)', 'Braveheart (1995)', 'Matrix, The (1999)', 'Apollo 13 (1995)', 'Seven (a.k.a. Se7en) (1995)']\n",
      "Since you watched Shawshank Redemption, The (1994): \n",
      "\n",
      "1) Forrest Gump (1994)\n",
      "2) Pulp Fiction (1994)\n",
      "3) Silence of the Lambs, The (1991)\n",
      "4) Usual Suspects, The (1995)\n",
      "5) Schindler's List (1993)\n",
      "6) Fight Club (1999)\n",
      "7) Braveheart (1995)\n",
      "8) Matrix, The (1999)\n",
      "9) Apollo 13 (1995)\n",
      "10) Seven (a.k.a. Se7en) (1995)\n"
     ]
    }
   ],
   "source": [
    "movie_name = 'Shawshank Redemption, The (1994)'\n",
    "\n",
    "# Find the movieId associated with the movie_name\n",
    "movie_id = df2[df2[\"title\"] == movie_name].index[0]\n",
    "\n",
    "# Use similar_movies() to find 10 movie recommendations\n",
    "recommended_movies = similar_movies(df2, 10, movie_id)\n",
    "\n",
    "print(\"Since you watched %s: \\n\" % movie_name)\n",
    "for i, m in enumerate(recommended_movies):\n",
    "    print(\"%s) %s\" % (i+1, m))"
   ]
  },
  {
   "cell_type": "markdown",
   "id": "db94d086",
   "metadata": {},
   "source": [
    "### **D) EXTRA** "
   ]
  },
  {
   "cell_type": "code",
   "execution_count": 42,
   "id": "5e1d8bb4",
   "metadata": {},
   "outputs": [],
   "source": [
    "## Modify the fuction to take the user id as well and ensure that the recomended movies are not already watched by the user. \n",
    "\n",
    "def similar_movies_2(df, k, movie_id, user_id):\n",
    "    not_watched = list(df[df[user_id] == 0][\"title\"])\n",
    "    kNN = NearestNeighbors(n_neighbors=k*3, algorithm=\"brute\", metric='cosine')\n",
    "    kNN.fit(df.drop(\"title\", axis=1))\n",
    "    recs = kNN.kneighbors([list(df.drop(\"title\", axis=1).loc[movie_id])], return_distance=False)[0]\n",
    "    recs_names = [df.iloc[i][\"title\"] for i in recs]\n",
    "    recs_names = [m for m in recs_names if (m != df.loc[movie_id][\"title\"]) and (m in not_watched)]\n",
    "    return recs_names[:k]\n"
   ]
  },
  {
   "cell_type": "code",
   "execution_count": 43,
   "id": "50c5295e",
   "metadata": {},
   "outputs": [
    {
     "name": "stdout",
     "output_type": "stream",
     "text": [
      "Since you watched Shawshank Redemption, The (1994): \n",
      "\n",
      "1) Forrest Gump (1994)\n",
      "2) Silence of the Lambs, The (1991)\n",
      "3) Fight Club (1999)\n",
      "4) Matrix, The (1999)\n",
      "5) Seven (a.k.a. Se7en) (1995)\n",
      "6) Lord of the Rings: The Return of the King, The (2003)\n",
      "7) Godfather, The (1972)\n",
      "8) Good Will Hunting (1997)\n",
      "9) Jurassic Park (1993)\n",
      "10) Lord of the Rings: The Fellowship of the Ring, The (2001)\n"
     ]
    }
   ],
   "source": [
    "movie_name = 'Shawshank Redemption, The (1994)'\n",
    "user_id = 5\n",
    "movie_id = movies[movies[\"title\"] == movie_name].index[0]\n",
    "recommended_movies = similar_movies_2(df2, 10, movie_id, user_id)\n",
    "\n",
    "print(\"Since you watched %s: \\n\" % movie_name)\n",
    "for i, m in enumerate(recommended_movies):\n",
    "    print(\"%s) %s\" % (i+1, m))"
   ]
  }
 ],
 "metadata": {
  "kernelspec": {
   "display_name": "Python 3 (ipykernel)",
   "language": "python",
   "name": "python3"
  },
  "language_info": {
   "codemirror_mode": {
    "name": "ipython",
    "version": 3
   },
   "file_extension": ".py",
   "mimetype": "text/x-python",
   "name": "python",
   "nbconvert_exporter": "python",
   "pygments_lexer": "ipython3",
   "version": "3.9.12"
  }
 },
 "nbformat": 4,
 "nbformat_minor": 5
}
